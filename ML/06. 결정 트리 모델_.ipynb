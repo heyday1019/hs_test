{
 "cells": [
  {
   "cell_type": "code",
   "execution_count": 1,
   "id": "c498c5f5-0838-493b-aa3f-11c98268bdeb",
   "metadata": {},
   "outputs": [],
   "source": [
    "# 불필요한 경고 메시지 삭제\n",
    "import warnings\n",
    "warnings.filterwarnings('ignore')"
   ]
  },
  {
   "cell_type": "markdown",
   "id": "44525229-6f7d-406d-be62-a6765b4cb358",
   "metadata": {},
   "source": [
    "\n",
    "```\n",
    "# This is formatted as code\n",
    "```\n",
    "\n",
    "# Data Load"
   ]
  },
  {
   "cell_type": "code",
   "execution_count": 2,
   "id": "0580076a-6308-4aad-8c02-370e5eb430c7",
   "metadata": {},
   "outputs": [],
   "source": [
    "from sklearn.datasets import load_iris\n",
    "from sklearn.model_selection import train_test_split\n",
    "\n",
    "iris_data = load_iris()\n",
    "\n",
    "X_train, X_test, y_train, y_test = train_test_split(\n",
    "  iris_data.data,\n",
    "  iris_data.target,\n",
    "  test_size=0.2,\n",
    "  random_state=11\n",
    ")"
   ]
  },
  {
   "cell_type": "code",
   "execution_count": 3,
   "id": "9feb6ea9-d863-4979-be16-c1426b7e8412",
   "metadata": {},
   "outputs": [],
   "source": [
    "# 결정 트리 모델 생성"
   ]
  },
  {
   "cell_type": "code",
   "execution_count": null,
   "id": "7ce19008-0776-489f-81c7-9781b7975eeb",
   "metadata": {},
   "outputs": [],
   "source": [
    "from sklearn.tree import DecisionTreeClassifier\n",
    "\n",
    "# 아무런 하이퍼 파라미터 설정을 하지 않았기 때문에 이 트리는 항상 과대적합이 된 트리\n",
    "#   - 모든 leaf node가 순수 노드\n",
    "#  순수 노드란? 지니 계수가 0인 노드.\n",
    "dt_clf = DecisionTreeClassifier()\n",
    "dt_clf.fit(X_train, y_train)"
   ]
  },
  {
   "cell_type": "code",
   "execution_count": null,
   "id": "c42eb7c5-5eb8-4767-8957-0520f4e12153",
   "metadata": {},
   "outputs": [],
   "source": [
    "# Graphviz 시각화\n",
    "- Tree 모델이 어떻게 학습을 했는지 시각화\n",
    "- `pip install graphviz`"
   ]
  },
  {
   "cell_type": "code",
   "execution_count": null,
   "id": "9290b796-6d30-4b7a-9da2-412cc77348ce",
   "metadata": {},
   "outputs": [],
   "source": []
  }
 ],
 "metadata": {
  "kernelspec": {
   "display_name": "Python 3 (ipykernel)",
   "language": "python",
   "name": "python3"
  },
  "language_info": {
   "codemirror_mode": {
    "name": "ipython",
    "version": 3
   },
   "file_extension": ".py",
   "mimetype": "text/x-python",
   "name": "python",
   "nbconvert_exporter": "python",
   "pygments_lexer": "ipython3",
   "version": "3.11.7"
  }
 },
 "nbformat": 4,
 "nbformat_minor": 5
}
