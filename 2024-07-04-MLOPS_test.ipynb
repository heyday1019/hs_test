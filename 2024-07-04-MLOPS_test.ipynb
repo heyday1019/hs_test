{
 "cells": [
  {
   "cell_type": "markdown",
   "id": "fa707f6e-5452-4c21-ab56-8e9f04dd13f7",
   "metadata": {},
   "source": [
    "# MY SQL 기초 연습 COUNT(), AVG()\r\n",
    "\r\n"
   ]
  },
  {
   "cell_type": "markdown",
   "id": "8df21b14-53ed-4330-9171-b6d959b4bf25",
   "metadata": {},
   "source": [
    "## 컬럼 조회\n",
    "> *USE* / *SELECT* / *FROM*"
   ]
  },
  {
   "cell_type": "markdown",
   "id": "2aedbe23-c32a-4735-8624-553f4684539c",
   "metadata": {},
   "source": [
    "- SELECT [필드명,컬럼] FROM [DB 명.테이블 명];"
   ]
  },
  {
   "cell_type": "code",
   "execution_count": null,
   "id": "d5fe457e-46bf-4d3d-ad74-6f3effbf8988",
   "metadata": {
    "scrolled": true
   },
   "outputs": [],
   "source": [
    "SELECT * FROM classicmodels.custoers;"
   ]
  },
  {
   "cell_type": "markdown",
   "id": "c86d9142-3507-49ce-9b01-755dbd6f61af",
   "metadata": {},
   "source": [
    "- USE [DB 명]\n",
    "매번 DB명을 따로 입력을 하지 않게 미리 DB명을 [USE]명령을 사용하여 지정해 둘 수 있음"
   ]
  },
  {
   "cell_type": "code",
   "execution_count": null,
   "id": "e4eca29c-97ea-46b1-9281-805af7e51739",
   "metadata": {},
   "outputs": [],
   "source": [
    "USE classicmodels; \n",
    "SELECT  *  FROM customers;"
   ]
  },
  {
   "cell_type": "markdown",
   "id": "0a611cdb-ca3f-4d9d-869d-731adc0859d2",
   "metadata": {},
   "source": [
    "## 집계함수 \n",
    "> SUM(), COUNT(), AVG(), MIN()&MAX()"
   ]
  },
  {
   "cell_type": "code",
   "execution_count": null,
   "id": "ff35c524-6ec5-414b-a606-89a31d6db49b",
   "metadata": {},
   "outputs": [],
   "source": [
    "SELECT  SUM(salesRepEmployeeNumber),COUNT(salesRepEmployeeNumber) FROM customers;"
   ]
  },
  {
   "cell_type": "markdown",
   "id": "3661d4fb-196b-4603-b891-ce8e42c67c98",
   "metadata": {},
   "source": [
    "## 칼럼명 변경\n",
    "> AS"
   ]
  },
  {
   "cell_type": "code",
   "execution_count": null,
   "id": "809fb949-8315-4488-a998-3d1a7e96fd65",
   "metadata": {},
   "outputs": [],
   "source": [
    "SELECT customerNumber as customerNumber2\n",
    "FROM customers ;"
   ]
  }
 ],
 "metadata": {
  "kernelspec": {
   "display_name": "Python 3 (ipykernel)",
   "language": "python",
   "name": "python3"
  },
  "language_info": {
   "codemirror_mode": {
    "name": "ipython",
    "version": 3
   },
   "file_extension": ".py",
   "mimetype": "text/x-python",
   "name": "python",
   "nbconvert_exporter": "python",
   "pygments_lexer": "ipython3",
   "version": "3.11.7"
  }
 },
 "nbformat": 4,
 "nbformat_minor": 5
}
