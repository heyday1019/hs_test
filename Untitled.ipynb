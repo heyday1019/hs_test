{
 "cells": [
  {
   "cell_type": "code",
   "execution_count": 1,
   "id": "68833c8b-ca50-49bd-8cc1-49a6f252a830",
   "metadata": {},
   "outputs": [
    {
     "data": {
      "text/html": [
       "<div>\n",
       "<style scoped>\n",
       "    .dataframe tbody tr th:only-of-type {\n",
       "        vertical-align: middle;\n",
       "    }\n",
       "\n",
       "    .dataframe tbody tr th {\n",
       "        vertical-align: top;\n",
       "    }\n",
       "\n",
       "    .dataframe thead th {\n",
       "        text-align: right;\n",
       "    }\n",
       "</style>\n",
       "<table border=\"1\" class=\"dataframe\">\n",
       "  <thead>\n",
       "    <tr style=\"text-align: right;\">\n",
       "      <th></th>\n",
       "      <th>A</th>\n",
       "      <th>B</th>\n",
       "      <th>C</th>\n",
       "      <th>D</th>\n",
       "    </tr>\n",
       "  </thead>\n",
       "  <tbody>\n",
       "    <tr>\n",
       "      <th>0</th>\n",
       "      <td>foo</td>\n",
       "      <td>one</td>\n",
       "      <td>1</td>\n",
       "      <td>10</td>\n",
       "    </tr>\n",
       "    <tr>\n",
       "      <th>1</th>\n",
       "      <td>bar</td>\n",
       "      <td>one</td>\n",
       "      <td>2</td>\n",
       "      <td>20</td>\n",
       "    </tr>\n",
       "    <tr>\n",
       "      <th>2</th>\n",
       "      <td>foo</td>\n",
       "      <td>two</td>\n",
       "      <td>3</td>\n",
       "      <td>30</td>\n",
       "    </tr>\n",
       "    <tr>\n",
       "      <th>3</th>\n",
       "      <td>bar</td>\n",
       "      <td>two</td>\n",
       "      <td>4</td>\n",
       "      <td>40</td>\n",
       "    </tr>\n",
       "    <tr>\n",
       "      <th>4</th>\n",
       "      <td>foo</td>\n",
       "      <td>one</td>\n",
       "      <td>5</td>\n",
       "      <td>50</td>\n",
       "    </tr>\n",
       "    <tr>\n",
       "      <th>5</th>\n",
       "      <td>bar</td>\n",
       "      <td>one</td>\n",
       "      <td>6</td>\n",
       "      <td>60</td>\n",
       "    </tr>\n",
       "  </tbody>\n",
       "</table>\n",
       "</div>"
      ],
      "text/plain": [
       "     A    B  C   D\n",
       "0  foo  one  1  10\n",
       "1  bar  one  2  20\n",
       "2  foo  two  3  30\n",
       "3  bar  two  4  40\n",
       "4  foo  one  5  50\n",
       "5  bar  one  6  60"
      ]
     },
     "execution_count": 1,
     "metadata": {},
     "output_type": "execute_result"
    }
   ],
   "source": [
    "import pandas as pd\n",
    "\n",
    "data = {\n",
    "    'A': ['foo', 'bar', 'foo', 'bar', 'foo', 'bar'],\n",
    "    'B': ['one', 'one', 'two', 'two', 'one', 'one'],\n",
    "    'C': [1, 2, 3, 4, 5, 6],\n",
    "    'D': [10, 20, 30, 40, 50, 60]\n",
    "}\n",
    "\n",
    "df = pd.DataFrame(data)\n",
    "df\n",
    "# grouped = df.groupby('A')\n",
    "# print(grouped.mean())"
   ]
  },
  {
   "cell_type": "code",
   "execution_count": 5,
   "id": "10113387-80f3-4397-83e1-aeb1290b4a56",
   "metadata": {},
   "outputs": [
    {
     "name": "stdout",
     "output_type": "stream",
     "text": [
      "<class 'pandas.core.frame.DataFrame'>\n",
      "RangeIndex: 3 entries, 0 to 2\n",
      "Data columns (total 3 columns):\n",
      " #   Column  Non-Null Count  Dtype \n",
      "---  ------  --------------  ----- \n",
      " 0   위스키     3 non-null      object\n",
      " 1   비위스키    3 non-null      object\n",
      " 2   포도주     3 non-null      object\n",
      "dtypes: object(3)\n",
      "memory usage: 204.0+ bytes\n"
     ]
    }
   ],
   "source": [
    "import pandas as pd\n",
    "data2 = { '위스키' : ['발렌타인','로얄샬롯','시바스리갈'],\n",
    "         '비위스키' : ['앱솔루트','몽키47','말리부'],\n",
    "         '포도주' : ['깜포비에','옐로테일','롱테일']\n",
    "\n",
    "        }\n",
    "df2 = pd.DataFrame(data2)\n",
    "#df2.shape()\n",
    "df2.info()\n",
    "         "
   ]
  },
  {
   "cell_type": "code",
   "execution_count": 7,
   "id": "c34b5dc7-66b5-4170-899e-dba204785968",
   "metadata": {},
   "outputs": [
    {
     "name": "stdout",
     "output_type": "stream",
     "text": [
      "     afl.margins\n",
      "0             56\n",
      "1             31\n",
      "2             56\n",
      "3              8\n",
      "4             32\n",
      "..           ...\n",
      "171           28\n",
      "172           38\n",
      "173           29\n",
      "174           10\n",
      "175           10\n",
      "\n",
      "[176 rows x 1 columns]\n",
      "        afl.finalists\n",
      "0            Hawthorn\n",
      "1           Melbourne\n",
      "2             Carlton\n",
      "3           Melbourne\n",
      "4            Hawthorn\n",
      "..                ...\n",
      "395            Sydney\n",
      "396           Geelong\n",
      "397  Western Bulldogs\n",
      "398          St Kilda\n",
      "399          St Kilda\n",
      "\n",
      "[400 rows x 1 columns]\n"
     ]
    }
   ],
   "source": [
    "import pandas as pd\n",
    "\n",
    "afl_finalists = pd.read_csv('https://raw.githubusercontent.com/ethanweed/pythonbook/main/Data/afl_finalists.csv')\n",
    "afl_margins = pd.read_csv('https://raw.githubusercontent.com/ethanweed/pythonbook/main/Data/afl_margins.csv')\n",
    "print(afl_margins)\n",
    "print(afl_finalists)\n"
   ]
  },
  {
   "cell_type": "code",
   "execution_count": 8,
   "id": "4d091c2c-aa1b-4bed-af21-6cabfd981d01",
   "metadata": {},
   "outputs": [
    {
     "data": {
      "image/png": "[encoded data removed]",
      "text/plain": [
       "<Figure size 640x480 with 1 Axes>"
      ]
     },
     "metadata": {},
     "output_type": "display_data"
    }
   ],
   "source": [
    "import seaborn as sns\n",
    "\n",
    "ax = sns.histplot(afl_margins)\n",
    "\n",
    "ax.set(xlabel =\"Winning Margin\", \n",
    "                ylabel = \"Frequency\")\n",
    "\n",
    "sns.despine()\n"
   ]
  },
  {
   "cell_type": "code",
   "execution_count": 10,
   "id": "eeee45af-c40c-4b51-94b2-b4e9c659144a",
   "metadata": {},
   "outputs": [
    {
     "name": "stdout",
     "output_type": "stream",
     "text": [
      "absolut\n",
      "Bal17\n",
      "RS21\n",
      "Jamson\n"
     ]
    }
   ],
   "source": [
    "for i in ['absolut', 'Bal17', 'RS21', 'Jamson']:\n",
    "    print(i)"
   ]
  },
  {
   "cell_type": "code",
   "execution_count": 11,
   "id": "6e6f4b0e-649d-469d-bf7f-7af9b30059f5",
   "metadata": {
    "collapsed": true,
    "jupyter": {
     "outputs_hidden": true
    },
    "scrolled": true
   },
   "outputs": [
    {
     "name": "stdout",
     "output_type": "stream",
     "text": [
      "0\n",
      "1\n",
      "2\n",
      "3\n",
      "4\n",
      "5\n",
      "6\n",
      "7\n",
      "8\n",
      "9\n"
     ]
    }
   ],
   "source": [
    "for a in range(10):\n",
    "    print(a)"
   ]
  },
  {
   "cell_type": "code",
   "execution_count": null,
   "id": "51c9f407-45ca-4a1a-a5ac-9a3d58a6c379",
   "metadata": {},
   "outputs": [],
   "source": [
    "a = input()\n",
    "if(%a==0)\n",
    "{\n",
    "    print('%d',a)\n",
    "\n",
    "}"
   ]
  },
  {
   "cell_type": "code",
   "execution_count": 2,
   "id": "b54a3df9-2b44-43b4-be7b-efae9f8a2459",
   "metadata": {},
   "outputs": [
    {
     "data": {
      "text/plain": [
       "'C:\\\\Users\\\\user\\\\Desktop\\\\hs_test'"
      ]
     },
     "execution_count": 2,
     "metadata": {},
     "output_type": "execute_result"
    }
   ],
   "source": [
    "import os\n",
    "os.getcwd()"
   ]
  },
  {
   "cell_type": "code",
   "execution_count": 4,
   "id": "ec3b5cee-057e-492d-a29b-6c2b47e9bf42",
   "metadata": {},
   "outputs": [
    {
     "data": {
      "text/plain": [
       "['.git',\n",
       " '.gitignore',\n",
       " '.ipynb_checkpoints',\n",
       " '.touch.txt.swp',\n",
       " '.virtual_documents',\n",
       " '2024-07-04-MLOPS_test.ipynb',\n",
       " 'ADsP - part1 데이터의 이해.ipynb',\n",
       " 'boston.csv',\n",
       " 'data',\n",
       " 'iris.csv',\n",
       " 'iris2.csv',\n",
       " 'jupiter.png',\n",
       " 'kaggle',\n",
       " 'LICENSE',\n",
       " 'mysql_class',\n",
       " 'ns_202104.csv',\n",
       " 'ns_book7.csv',\n",
       " 'python_240701.ipynb',\n",
       " 'python_240702 문제&정답.ipynb',\n",
       " 'python_240702.ipynb',\n",
       " 'python_240702_T.ipynb',\n",
       " 'python_240703.ipynb',\n",
       " 'python_240703_T.ipynb',\n",
       " 'python_240704.ipynb',\n",
       " 'python_240704_T.ipynb',\n",
       " 'python_240705_답지.ipynb',\n",
       " 'python_240705_문제.ipynb',\n",
       " 'README.md',\n",
       " 'requirements.txt',\n",
       " 'sample_data.ipynb',\n",
       " 'st_test',\n",
       " 'test_data',\n",
       " 'tips_visualization.png',\n",
       " 'Untitled.ipynb',\n",
       " 'untitled.txt',\n",
       " 'Untitled1.ipynb',\n",
       " 'venv',\n",
       " 'yourname.png',\n",
       " '작업3유형_기출문제_답지_강의용.ipynb',\n",
       " '작업3유형_기출문제_문제.ipynb']"
      ]
     },
     "execution_count": 4,
     "metadata": {},
     "output_type": "execute_result"
    }
   ],
   "source": [
    "os.listdir()"
   ]
  },
  {
   "cell_type": "code",
   "execution_count": 12,
   "id": "fc609b41-82e5-4390-a625-39833843d8b2",
   "metadata": {},
   "outputs": [
    {
     "data": {
      "text/plain": [
       "list"
      ]
     },
     "execution_count": 12,
     "metadata": {},
     "output_type": "execute_result"
    }
   ],
   "source": [
    "file = os.listdir()\n",
    "# len(file)\n",
    "\n",
    "type(file)"
   ]
  },
  {
   "cell_type": "code",
   "execution_count": 20,
   "id": "6b3d3656-18b4-49d1-a5e9-8cc197aa1d61",
   "metadata": {},
   "outputs": [
    {
     "name": "stdout",
     "output_type": "stream",
     "text": [
      "python.exe\n",
      "pythonw.exe\n",
      "Uninstall-Anaconda3.exe\n",
      "_conda.exe\n"
     ]
    }
   ],
   "source": [
    "os.listdir('C:/ProgramData/anaconda3')\n",
    "for i in os.listdir('C:/ProgramData/anaconda3'):\n",
    "    if i.endswith('exe'):\n",
    "        print(i)"
   ]
  },
  {
   "cell_type": "code",
   "execution_count": null,
   "id": "eff320b4-078d-4a27-baf1-199c93be1cf0",
   "metadata": {},
   "outputs": [],
   "source": []
  }
 ],
 "metadata": {
  "kernelspec": {
   "display_name": "Python 3 (ipykernel)",
   "language": "python",
   "name": "python3"
  },
  "language_info": {
   "codemirror_mode": {
    "name": "ipython",
    "version": 3
   },
   "file_extension": ".py",
   "mimetype": "text/x-python",
   "name": "python",
   "nbconvert_exporter": "python",
   "pygments_lexer": "ipython3",
   "version": "3.11.7"
  }
 },
 "nbformat": 4,
 "nbformat_minor": 5
}
