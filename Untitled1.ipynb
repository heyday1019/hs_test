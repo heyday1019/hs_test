{
 "cells": [
  {
   "cell_type": "markdown",
   "id": "d169d3e9-b965-4011-b7d2-249713325c8c",
   "metadata": {},
   "source": [
    "-- CH04. 자동차 매출 데이터를 이용한 리포트 작성"
   ]
  },
  {
   "cell_type": "code",
   "execution_count": null,
   "id": "bf75ed2d-55c0-4c17-931d-538332b37272",
   "metadata": {},
   "outputs": [],
   "source": [
    "-- 일별 매출액 조회"
   ]
  },
  {
   "cell_type": "code",
   "execution_count": null,
   "id": "0084ea4a-849b-4d3c-bc29-8c9bc0b9fc22",
   "metadata": {},
   "outputs": [],
   "source": [
    "USE classicmodels;\n",
    "SELECT\n",
    "    A.Orderdate\n",
    "    , priceeach * guantiti"
   ]
  }
 ],
 "metadata": {
  "kernelspec": {
   "display_name": "Python 3 (ipykernel)",
   "language": "python",
   "name": "python3"
  },
  "language_info": {
   "codemirror_mode": {
    "name": "ipython",
    "version": 3
   },
   "file_extension": ".py",
   "mimetype": "text/x-python",
   "name": "python",
   "nbconvert_exporter": "python",
   "pygments_lexer": "ipython3",
   "version": "3.11.7"
  }
 },
 "nbformat": 4,
 "nbformat_minor": 5
}
