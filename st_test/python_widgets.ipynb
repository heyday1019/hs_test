{
 "cells": [
  {
   "cell_type": "code",
   "execution_count": 1,
   "id": "685b6e16-86b3-498d-91d5-5e5de616b8d3",
   "metadata": {},
   "outputs": [
    {
     "name": "stderr",
     "output_type": "stream",
     "text": [
      "2024-07-08 17:49:01.788 WARNING streamlit.runtime.caching.cache_data_api: No runtime found, using MemoryCacheStorageManager\n",
      "2024-07-08 17:49:02.266 \n",
      "  \u001b[33m\u001b[1mWarning:\u001b[0m to view this Streamlit app on a browser, run it with the following\n",
      "  command:\n",
      "\n",
      "    streamlit run C:\\Users\\user\\Desktop\\hs_test\\venv\\Lib\\site-packages\\ipykernel_launcher.py [ARGUMENTS]\n",
      "2024-07-08 17:49:02.266 No runtime found, using MemoryCacheStorageManager\n",
      "2024-07-08 17:49:02.294 Session state does not function when running a script without `streamlit run`\n"
     ]
    }
   ],
   "source": [
    "# -*- coding:utf-8 -*-\n",
    "\n",
    "import streamlit as st \n",
    "import pandas as pd \n",
    "import matplotlib.pyplot as plt \n",
    "import seaborn as sns \n",
    "import plotly \n",
    "import numpy as np \n",
    "import matplotlib as mpl\n",
    "\n",
    "@st.cache_data\n",
    "def get_data():\n",
    "    # data = pd.read_csv(\"train.csv\") / size가 크면 streamlit에서 배포 안됨\n",
    "    data = sns.load_dataset(\"tips\")\n",
    "    return data\n",
    "\n",
    "def main():\n",
    "    price = st.slider(\"단가:\", 1000, 10000, value = 5000)\n",
    "    total_sales = st.slider(\"전체 판매 갯수:\", 1, 1000, value = 500) \n",
    "\n",
    "    if st.button(\"매출액 계산\"):\n",
    "        revenue = price * total_sales\n",
    "        st.write(f\"전체매출액 : {revenue}\")\n",
    "\n",
    "    tips = get_data()\n",
    "    st.dataframe(tips)\n",
    "\n",
    "    show_plot = st.checkbox(\"시각화를 보여줄까요?\")\n",
    "\n",
    "    tip_max = tips['tip'].max() # tip의 최대\n",
    "    tip_min = tips['tip'].min() # tip의 min\n",
    "    tip = st.slider(\"tip의 입력값\", tip_min, tip_max)\n",
    "    # tips2 = tips.loc[tips['tip'] >= tip, :]\n",
    "    option = st.selectbox(\n",
    "    \"요일을 선택하세요\",\n",
    "    ( \"Sun\", \"Mon\", \"Tue\", \"Wed\", \"Thur\", \"Fri\",\"Sat\"))\n",
    "    st.write(option, tip)\n",
    "    tips2 = tips.loc[(tips['day'] == option) | (tips['tip'] >= tip), :]\n",
    "    import plotly.express as px \n",
    "    fig = px.scatter(data_frame = tips2, x = \"total_bill\", y = \"tip\")\n",
    "    st.plotly_chart(fig)\n",
    "\n",
    "    if show_plot:\n",
    "\n",
    "        fig, ax = plt.subplots()\n",
    "        ax.set_title(\"Hello World\")\n",
    "        st.pyplot(fig)\n",
    "    \n",
    "\n",
    "\n",
    "\n",
    "\n",
    "if __name__ == \"__main__\":\n",
    "    main()"
   ]
  }
 ],
 "metadata": {
  "kernelspec": {
   "display_name": "Python 3 (ipykernel)",
   "language": "python",
   "name": "python3"
  },
  "language_info": {
   "codemirror_mode": {
    "name": "ipython",
    "version": 3
   },
   "file_extension": ".py",
   "mimetype": "text/x-python",
   "name": "python",
   "nbconvert_exporter": "python",
   "pygments_lexer": "ipython3",
   "version": "3.11.7"
  }
 },
 "nbformat": 4,
 "nbformat_minor": 5
}
