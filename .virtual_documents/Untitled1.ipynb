


-- 일별 매출액 조회


USE classicmodels;
SELECT
    A.Orderdate
    , priceeach * guantiti
