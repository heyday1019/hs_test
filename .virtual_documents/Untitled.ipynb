import pandas as pd

data = {
    'A': ['foo', 'bar', 'foo', 'bar', 'foo', 'bar'],
    'B': ['one', 'one', 'two', 'two', 'one', 'one'],
    'C': [1, 2, 3, 4, 5, 6],
    'D': [10, 20, 30, 40, 50, 60]
}

df = pd.DataFrame(data)
df
# grouped = df.groupby('A')
# print(grouped.mean())


import pandas as pd
data2 = { '위스키' : ['발렌타인','로얄샬롯','시바스리갈'],
         '비위스키' : ['앱솔루트','몽키47','말리부'],
         '포도주' : ['깜포비에','옐로테일','롱테일']

        }
df2 = pd.DataFrame(data2)
#df2.shape()
df2.info()
         


import pandas as pd

afl_finalists = pd.read_csv('https://raw.githubusercontent.com/ethanweed/pythonbook/main/Data/afl_finalists.csv')
afl_margins = pd.read_csv('https://raw.githubusercontent.com/ethanweed/pythonbook/main/Data/afl_margins.csv')
print(afl_margins)
print(afl_finalists)



import seaborn as sns

ax = sns.histplot(afl_margins)

ax.set(xlabel ="Winning Margin", 
                ylabel = "Frequency")

sns.despine()



for i in ['absolut', 'Bal17', 'RS21', 'Jamson']:
    print(i)


for a in range(10):
    print(a)


a = input()
if(%a==0)
{
    print('%d',a)

}
